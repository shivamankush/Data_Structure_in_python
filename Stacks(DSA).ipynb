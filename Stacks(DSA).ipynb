{
 "cells": [
  {
   "cell_type": "markdown",
   "id": "46b84ac7-2ab5-412f-8d36-64c7bfc3e246",
   "metadata": {},
   "source": [
    "## STACK USING LINKED_LIST"
   ]
  },
  {
   "cell_type": "code",
   "execution_count": null,
   "id": "8d60e872-e556-4c56-8d04-1a0548dab6f5",
   "metadata": {},
   "outputs": [],
   "source": [
    "### Python List internally behaves as Stacks(LIFO) bcoz all the operations in List are performed from top (i.e.,append() or pop() operation,which adds or remove element from last)"
   ]
  },
  {
   "cell_type": "code",
   "execution_count": 115,
   "id": "886bd387-2737-4df0-825d-0ca4910a00d2",
   "metadata": {},
   "outputs": [],
   "source": [
    "List=[1,2]"
   ]
  },
  {
   "cell_type": "code",
   "execution_count": 116,
   "id": "884a648d-276e-4487-b6ba-cb19949cc5d6",
   "metadata": {},
   "outputs": [],
   "source": [
    "List.append(3)"
   ]
  },
  {
   "cell_type": "code",
   "execution_count": 117,
   "id": "f1ce46ef-8b01-42ff-a9d5-0c583623c3ca",
   "metadata": {},
   "outputs": [
    {
     "name": "stdout",
     "output_type": "stream",
     "text": [
      "[1, 2, 3]\n"
     ]
    }
   ],
   "source": [
    "print(List)"
   ]
  },
  {
   "cell_type": "code",
   "execution_count": 118,
   "id": "8405196a-b97e-465d-894f-0119271a06b0",
   "metadata": {},
   "outputs": [
    {
     "data": {
      "text/plain": [
       "3"
      ]
     },
     "execution_count": 118,
     "metadata": {},
     "output_type": "execute_result"
    }
   ],
   "source": [
    "List.pop()"
   ]
  },
  {
   "cell_type": "code",
   "execution_count": 119,
   "id": "70752157-2c82-4a5a-bd9b-121dac9514bb",
   "metadata": {},
   "outputs": [
    {
     "name": "stdout",
     "output_type": "stream",
     "text": [
      "[1, 2]\n"
     ]
    }
   ],
   "source": [
    "print(List)"
   ]
  },
  {
   "cell_type": "code",
   "execution_count": 51,
   "id": "cf7dea3e-3fe5-4a69-92b6-78432badd7a8",
   "metadata": {},
   "outputs": [],
   "source": [
    "class Node:\n",
    "    def __init__(self,value):\n",
    "        self.data=value\n",
    "        self.next=None\n",
    "class Stack:\n",
    "    def __init__(self):\n",
    "        self.top=None\n",
    "    def isempty(self):\n",
    "        return self.top==None\n",
    "    def push(self,value):\n",
    "        new_node=Node(value)\n",
    "        new_node.next=self.top\n",
    "        self.top=new_node\n",
    "    def traverse(self):\n",
    "        temp=self.top\n",
    "        while temp!=None:\n",
    "            print(temp.data)\n",
    "            temp=temp.next\n",
    "    def peek(self):\n",
    "        if (self.isempty()):\n",
    "            return \"Stack Empty\"\n",
    "        else:\n",
    "            return self.top.data\n",
    "    def pop(self):\n",
    "        if (self.isempty()):\n",
    "            return \"Stack Empty\"\n",
    "        else:\n",
    "            data=self.top.data\n",
    "            self.top=self.top.next\n",
    "            return data"
   ]
  },
  {
   "cell_type": "code",
   "execution_count": 52,
   "id": "b8f51ac4-315d-4c7b-909a-cd54fbccf140",
   "metadata": {},
   "outputs": [],
   "source": [
    "n=Node(1)"
   ]
  },
  {
   "cell_type": "code",
   "execution_count": 53,
   "id": "259e0676-12dd-4cf5-a67c-da69e8466f83",
   "metadata": {},
   "outputs": [
    {
     "data": {
      "text/plain": [
       "1"
      ]
     },
     "execution_count": 53,
     "metadata": {},
     "output_type": "execute_result"
    }
   ],
   "source": [
    "n.data"
   ]
  },
  {
   "cell_type": "code",
   "execution_count": 55,
   "id": "9cb5ca39-2f1f-443d-92b7-337d8f5733df",
   "metadata": {},
   "outputs": [],
   "source": [
    "s=Stack()"
   ]
  },
  {
   "cell_type": "code",
   "execution_count": 56,
   "id": "e230c162-88b7-48ff-a59c-c1aa60b9b739",
   "metadata": {},
   "outputs": [
    {
     "data": {
      "text/plain": [
       "True"
      ]
     },
     "execution_count": 56,
     "metadata": {},
     "output_type": "execute_result"
    }
   ],
   "source": [
    "s.isempty()"
   ]
  },
  {
   "cell_type": "code",
   "execution_count": 57,
   "id": "574c1f03-7814-4a0a-be0c-456d1ec92d1f",
   "metadata": {},
   "outputs": [],
   "source": [
    "s.push(1)"
   ]
  },
  {
   "cell_type": "code",
   "execution_count": 58,
   "id": "293ea298-7343-48f4-9478-eb3ca09ff282",
   "metadata": {},
   "outputs": [
    {
     "data": {
      "text/plain": [
       "1"
      ]
     },
     "execution_count": 58,
     "metadata": {},
     "output_type": "execute_result"
    }
   ],
   "source": [
    "s.pop()"
   ]
  },
  {
   "cell_type": "code",
   "execution_count": 59,
   "id": "1d281b64-5b83-43a1-9343-881fd9fb05c3",
   "metadata": {},
   "outputs": [],
   "source": [
    "s.push(2)\n",
    "s.push(3)\n",
    "s.push(4)\n",
    "s.push(5)"
   ]
  },
  {
   "cell_type": "code",
   "execution_count": 60,
   "id": "d9147935-a059-4c78-9fea-3e7c657d0d83",
   "metadata": {},
   "outputs": [
    {
     "name": "stdout",
     "output_type": "stream",
     "text": [
      "5\n",
      "4\n",
      "3\n",
      "2\n"
     ]
    }
   ],
   "source": [
    "s.traverse()"
   ]
  },
  {
   "cell_type": "code",
   "execution_count": 61,
   "id": "c5ceb820-1393-4d64-ae71-38e5d8f4d4e6",
   "metadata": {},
   "outputs": [
    {
     "data": {
      "text/plain": [
       "False"
      ]
     },
     "execution_count": 61,
     "metadata": {},
     "output_type": "execute_result"
    }
   ],
   "source": [
    "s.isempty()"
   ]
  },
  {
   "cell_type": "code",
   "execution_count": 62,
   "id": "e8b0b29f-9b42-4294-8f12-8d70d1cfe64e",
   "metadata": {},
   "outputs": [
    {
     "data": {
      "text/plain": [
       "5"
      ]
     },
     "execution_count": 62,
     "metadata": {},
     "output_type": "execute_result"
    }
   ],
   "source": [
    "s.peek()"
   ]
  },
  {
   "cell_type": "code",
   "execution_count": 63,
   "id": "c0fb6c21-05c1-464d-9d8c-14d2dc45ce2b",
   "metadata": {},
   "outputs": [
    {
     "data": {
      "text/plain": [
       "5"
      ]
     },
     "execution_count": 63,
     "metadata": {},
     "output_type": "execute_result"
    }
   ],
   "source": [
    "s.pop()"
   ]
  },
  {
   "cell_type": "code",
   "execution_count": 64,
   "id": "816be4a7-b622-4361-a7d8-d12dfb0ef42c",
   "metadata": {},
   "outputs": [
    {
     "data": {
      "text/plain": [
       "4"
      ]
     },
     "execution_count": 64,
     "metadata": {},
     "output_type": "execute_result"
    }
   ],
   "source": [
    "s.peek()"
   ]
  },
  {
   "cell_type": "code",
   "execution_count": 65,
   "id": "809a8f4a-3905-4d33-ab46-1c49892b45b5",
   "metadata": {},
   "outputs": [
    {
     "data": {
      "text/plain": [
       "4"
      ]
     },
     "execution_count": 65,
     "metadata": {},
     "output_type": "execute_result"
    }
   ],
   "source": [
    "s.pop()"
   ]
  },
  {
   "cell_type": "code",
   "execution_count": 66,
   "id": "fc73408a-1b0e-4ec8-be24-ae453455f365",
   "metadata": {},
   "outputs": [
    {
     "data": {
      "text/plain": [
       "3"
      ]
     },
     "execution_count": 66,
     "metadata": {},
     "output_type": "execute_result"
    }
   ],
   "source": [
    "s.peek()"
   ]
  },
  {
   "cell_type": "code",
   "execution_count": 67,
   "id": "1179c88b-6c31-4ffd-bbce-249fc85bdc37",
   "metadata": {},
   "outputs": [
    {
     "data": {
      "text/plain": [
       "3"
      ]
     },
     "execution_count": 67,
     "metadata": {},
     "output_type": "execute_result"
    }
   ],
   "source": [
    "s.pop()"
   ]
  },
  {
   "cell_type": "code",
   "execution_count": 68,
   "id": "6f85f85b-edb4-40ef-a535-4b3ca4fdf711",
   "metadata": {},
   "outputs": [
    {
     "data": {
      "text/plain": [
       "2"
      ]
     },
     "execution_count": 68,
     "metadata": {},
     "output_type": "execute_result"
    }
   ],
   "source": [
    "s.peek()"
   ]
  },
  {
   "cell_type": "code",
   "execution_count": 69,
   "id": "e3511ab6-5dff-4d47-8045-afbb58656d2f",
   "metadata": {},
   "outputs": [
    {
     "data": {
      "text/plain": [
       "2"
      ]
     },
     "execution_count": 69,
     "metadata": {},
     "output_type": "execute_result"
    }
   ],
   "source": [
    "s.pop()"
   ]
  },
  {
   "cell_type": "code",
   "execution_count": 70,
   "id": "a3f5ac71-c881-4a7d-a53c-2de24b7e41b5",
   "metadata": {},
   "outputs": [
    {
     "data": {
      "text/plain": [
       "'Stack Empty'"
      ]
     },
     "execution_count": 70,
     "metadata": {},
     "output_type": "execute_result"
    }
   ],
   "source": [
    "s.peek()"
   ]
  },
  {
   "cell_type": "code",
   "execution_count": 71,
   "id": "93199d8d-61eb-46f6-8cc0-87564a3c3f4e",
   "metadata": {},
   "outputs": [
    {
     "data": {
      "text/plain": [
       "'Stack Empty'"
      ]
     },
     "execution_count": 71,
     "metadata": {},
     "output_type": "execute_result"
    }
   ],
   "source": [
    "s.pop()"
   ]
  },
  {
   "cell_type": "markdown",
   "id": "f2a9c764-40fc-4373-912c-a9c7b826c858",
   "metadata": {},
   "source": [
    "### Reversing string and Text Editor operations using STACKS "
   ]
  },
  {
   "cell_type": "code",
   "execution_count": 83,
   "id": "b92ecc7b-91e3-49d9-8607-9557352cd36e",
   "metadata": {},
   "outputs": [],
   "source": [
    "class Node:\n",
    "    def __init__(self,value):\n",
    "        self.data=value\n",
    "        self.next=None\n",
    "class Stack:\n",
    "    def __init__(self):\n",
    "        self.top=None\n",
    "    def isempty(self):\n",
    "        return self.top==None\n",
    "    def push(self,value):\n",
    "        new_node=Node(value)\n",
    "        new_node.next=self.top\n",
    "        self.top=new_node\n",
    "    def traverse(self):\n",
    "        temp=self.top\n",
    "        while temp!=None:\n",
    "            print(temp.data)\n",
    "            temp=temp.next\n",
    "    def peek(self):\n",
    "        if (self.isempty()):\n",
    "            return \"Stack Empty\"\n",
    "        else:\n",
    "            return self.top.data\n",
    "    def pop(self):\n",
    "        if (self.isempty()):\n",
    "            return \"Stack Empty\"\n",
    "        else:\n",
    "            data=self.top.data\n",
    "            self.top=self.top.next\n",
    "            return data\n",
    "    ## Reversing the given text using Stacks\n",
    "    def reverse_string(self,text):\n",
    "        s=Stack()\n",
    "        for i in text:\n",
    "            s.push(i)\n",
    "        res=\"\"\n",
    "        while (not s.isempty()):\n",
    "            res=res+s.pop()\n",
    "        return res\n",
    "    ## TEXT EDITOR\n",
    "    def text_editor(self,text,pattern):\n",
    "        s=Stack()\n",
    "        u=Stack()\n",
    "        for i in text:\n",
    "            s.push(i)\n",
    "        for i in pattern:\n",
    "            if i=='u':\n",
    "                data=s.pop()\n",
    "                u.push(data)\n",
    "            else:\n",
    "                data=u.pop()\n",
    "                s.push(data)\n",
    "        res=\"\"\n",
    "        while (not s.isempty()):\n",
    "            res=s.pop()+res\n",
    "        return res"
   ]
  },
  {
   "cell_type": "code",
   "execution_count": 84,
   "id": "b6eccc09-7583-419b-9ac0-0261a24795be",
   "metadata": {},
   "outputs": [],
   "source": [
    "s=Stack()"
   ]
  },
  {
   "cell_type": "code",
   "execution_count": 85,
   "id": "f9a8d6e3-ab82-4f41-94ae-80ff4e3effff",
   "metadata": {},
   "outputs": [
    {
     "data": {
      "text/plain": [
       "'tac'"
      ]
     },
     "execution_count": 85,
     "metadata": {},
     "output_type": "execute_result"
    }
   ],
   "source": [
    "s.reverse_string('cat')"
   ]
  },
  {
   "cell_type": "code",
   "execution_count": 86,
   "id": "efcec349-0b05-461b-b3a5-ecdba15bcdf9",
   "metadata": {},
   "outputs": [
    {
     "data": {
      "text/plain": [
       "'ATIRAS'"
      ]
     },
     "execution_count": 86,
     "metadata": {},
     "output_type": "execute_result"
    }
   ],
   "source": [
    "s.reverse_string('SARITA')"
   ]
  },
  {
   "cell_type": "code",
   "execution_count": 87,
   "id": "4dc9e265-4ba7-4c06-9e90-7b857975d1ce",
   "metadata": {},
   "outputs": [
    {
     "data": {
      "text/plain": [
       "'RETSIS_INAVIHS'"
      ]
     },
     "execution_count": 87,
     "metadata": {},
     "output_type": "execute_result"
    }
   ],
   "source": [
    "s.reverse_string('SHIVANI_SISTER')"
   ]
  },
  {
   "cell_type": "code",
   "execution_count": 88,
   "id": "2c45069c-25a3-4c42-80b6-17203b7758ac",
   "metadata": {},
   "outputs": [
    {
     "data": {
      "text/plain": [
       "'kolka'"
      ]
     },
     "execution_count": 88,
     "metadata": {},
     "output_type": "execute_result"
    }
   ],
   "source": [
    "s.text_editor('kolkata','uurruu')"
   ]
  },
  {
   "cell_type": "code",
   "execution_count": 89,
   "id": "625ee71e-b9dd-4b37-8f12-2c137a4267e9",
   "metadata": {},
   "outputs": [
    {
     "data": {
      "text/plain": [
       "'shiva'"
      ]
     },
     "execution_count": 89,
     "metadata": {},
     "output_type": "execute_result"
    }
   ],
   "source": [
    "s.text_editor(\"shivam\",\"uurru\")"
   ]
  },
  {
   "cell_type": "markdown",
   "id": "32a3e70c-a159-49a0-b4c4-58da6f56f897",
   "metadata": {},
   "source": [
    "### CELEBRITY Problem using Stacks"
   ]
  },
  {
   "cell_type": "code",
   "execution_count": 112,
   "id": "01ca20c5-c095-42e0-a074-2b2a8d16e6bb",
   "metadata": {},
   "outputs": [],
   "source": [
    "L=[[0,0,1,0],\n",
    "   [1,0,1,0],\n",
    "   [0,0,0,0],\n",
    "   [1,0,1,0]]"
   ]
  },
  {
   "cell_type": "code",
   "execution_count": 113,
   "id": "a5be4a69-5a93-474b-8d89-d93e62c9096e",
   "metadata": {},
   "outputs": [],
   "source": [
    "class Stack:\n",
    "    def __init__(self):\n",
    "        self.items = []  # Internal list to store stack elements\n",
    "\n",
    "    def push(self, item):\n",
    "        self.items.append(item)  # Add an item to the stack\n",
    "\n",
    "    def pop(self):\n",
    "        if not self.is_empty():\n",
    "            return self.items.pop()  # Remove and return the top item\n",
    "        raise IndexError(\"Pop from an empty stack\")\n",
    "\n",
    "    def is_empty(self):\n",
    "        return len(self.items) == 0  # Check if the stack is empty\n",
    "\n",
    "    def size(self):\n",
    "        return len(self.items)  # Return the number of items in the stack\n",
    "\n",
    "    def peek(self):\n",
    "        if not self.is_empty():\n",
    "            return self.items[-1]  # Return the top item without removing it\n",
    "        raise IndexError(\"Peek from an empty stack\")\n",
    "\n",
    "\n",
    "# Updated find_the_celebrity function\n",
    "def find_the_celebrity(L):\n",
    "    s = Stack()\n",
    "    for i in range(len(L)):\n",
    "        s.push(i)\n",
    "    \n",
    "    # Finding potential celebrity\n",
    "    while s.size() >= 2:\n",
    "        i = s.pop()\n",
    "        j = s.pop()\n",
    "        if L[i][j] == 0:\n",
    "            s.push(i)\n",
    "        else:\n",
    "            s.push(j)\n",
    "    \n",
    "    # Last potential celebrity\n",
    "    if s.is_empty():\n",
    "        return \"No one is celebrity\"\n",
    "    \n",
    "    celebrity = s.pop()\n",
    "    \n",
    "    # Verify the celebrity\n",
    "    for i in range(len(L)):\n",
    "        if i != celebrity:\n",
    "            if L[i][celebrity] == 0 or L[celebrity][i] == 1:\n",
    "                return \"No one is celebrity\"\n",
    "    return f\"The celebrity is: {celebrity}\""
   ]
  },
  {
   "cell_type": "code",
   "execution_count": 114,
   "id": "41ac693d-201d-4e27-aa14-cbed766c884a",
   "metadata": {},
   "outputs": [
    {
     "data": {
      "text/plain": [
       "'The celebrity is: 2'"
      ]
     },
     "execution_count": 114,
     "metadata": {},
     "output_type": "execute_result"
    }
   ],
   "source": [
    "find_the_celebrity(L)"
   ]
  },
  {
   "cell_type": "markdown",
   "id": "490e808d-e7be-4989-a8f7-340ea2767108",
   "metadata": {},
   "source": [
    "## BALANCED PARENTHESES PROBLEM"
   ]
  },
  {
   "cell_type": "code",
   "execution_count": 128,
   "id": "6e0f4c15-3da9-41f6-92d1-f447a0e36bfc",
   "metadata": {},
   "outputs": [],
   "source": [
    "def check_balance(s):\n",
    "    stack=[]\n",
    "    left_side=['(','{','[']\n",
    "    right_side=[')','}',']']\n",
    "    for i in s:\n",
    "        if i in left_side:\n",
    "            stack.append(i)\n",
    "        elif i in right_side:\n",
    "            pos=right_side.index(i)\n",
    "            ## Check balance\n",
    "            if len(stack)==0 or (left_side[pos]!=stack[len(stack)-1]):\n",
    "                return False\n",
    "            else:\n",
    "                stack.pop()\n",
    "    if len(stack)==0:\n",
    "        return True\n",
    "    else:\n",
    "        return False"
   ]
  },
  {
   "cell_type": "code",
   "execution_count": 129,
   "id": "6aa8ce78-4f79-498a-acf8-24f5c67b75b0",
   "metadata": {},
   "outputs": [
    {
     "data": {
      "text/plain": [
       "True"
      ]
     },
     "execution_count": 129,
     "metadata": {},
     "output_type": "execute_result"
    }
   ],
   "source": [
    "check_balance('[{()()}]')"
   ]
  },
  {
   "cell_type": "code",
   "execution_count": 130,
   "id": "d5731f3a-317c-4c07-9d6b-78c5827740ea",
   "metadata": {},
   "outputs": [
    {
     "data": {
      "text/plain": [
       "True"
      ]
     },
     "execution_count": 130,
     "metadata": {},
     "output_type": "execute_result"
    }
   ],
   "source": [
    "check_balance('{[()()]}')"
   ]
  },
  {
   "cell_type": "code",
   "execution_count": 132,
   "id": "465c05d7-b449-4d81-891d-d939a020a523",
   "metadata": {},
   "outputs": [
    {
     "data": {
      "text/plain": [
       "True"
      ]
     },
     "execution_count": 132,
     "metadata": {},
     "output_type": "execute_result"
    }
   ],
   "source": [
    "check_balance('{[(a+b)+(c+d)]}')"
   ]
  },
  {
   "cell_type": "code",
   "execution_count": 133,
   "id": "630b4550-6edc-4318-aa13-9da34efd172e",
   "metadata": {},
   "outputs": [
    {
     "data": {
      "text/plain": [
       "False"
      ]
     },
     "execution_count": 133,
     "metadata": {},
     "output_type": "execute_result"
    }
   ],
   "source": [
    "check_balance('[{()]')"
   ]
  },
  {
   "cell_type": "code",
   "execution_count": 134,
   "id": "dd78534c-3503-42cc-bb6d-ec69d5e4160c",
   "metadata": {},
   "outputs": [
    {
     "data": {
      "text/plain": [
       "False"
      ]
     },
     "execution_count": 134,
     "metadata": {},
     "output_type": "execute_result"
    }
   ],
   "source": [
    "check_balance('[{(a+b)+(c+d)]}')"
   ]
  },
  {
   "cell_type": "code",
   "execution_count": 135,
   "id": "63f8d6de-bbf8-4ed2-86d0-dfd6f749f68b",
   "metadata": {},
   "outputs": [
    {
     "data": {
      "text/plain": [
       "False"
      ]
     },
     "execution_count": 135,
     "metadata": {},
     "output_type": "execute_result"
    }
   ],
   "source": [
    "check_balance('(a+b)(')"
   ]
  },
  {
   "cell_type": "code",
   "execution_count": 136,
   "id": "01655eb7-584d-4deb-a8a4-398a22d651f9",
   "metadata": {},
   "outputs": [
    {
     "data": {
      "text/plain": [
       "False"
      ]
     },
     "execution_count": 136,
     "metadata": {},
     "output_type": "execute_result"
    }
   ],
   "source": [
    "check_balance('[(a+b)')"
   ]
  },
  {
   "cell_type": "markdown",
   "id": "c2e0c863-ed6c-4a85-8154-aa52565747ed",
   "metadata": {},
   "source": [
    "# THANKS"
   ]
  },
  {
   "cell_type": "code",
   "execution_count": null,
   "id": "2c19922d-e6f6-4c6e-ae1b-688e6878e169",
   "metadata": {},
   "outputs": [],
   "source": []
  }
 ],
 "metadata": {
  "kernelspec": {
   "display_name": "Python 3 (ipykernel)",
   "language": "python",
   "name": "python3"
  },
  "language_info": {
   "codemirror_mode": {
    "name": "ipython",
    "version": 3
   },
   "file_extension": ".py",
   "mimetype": "text/x-python",
   "name": "python",
   "nbconvert_exporter": "python",
   "pygments_lexer": "ipython3",
   "version": "3.12.4"
  }
 },
 "nbformat": 4,
 "nbformat_minor": 5
}
