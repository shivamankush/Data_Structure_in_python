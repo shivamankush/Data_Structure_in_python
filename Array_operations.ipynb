{
 "cells": [
  {
   "cell_type": "code",
   "execution_count": 1,
   "id": "8706948e-4442-4caa-8d45-e737f104401f",
   "metadata": {},
   "outputs": [],
   "source": [
    "## Program to show that  List of python internally works like Dynamic Array"
   ]
  },
  {
   "cell_type": "code",
   "execution_count": 2,
   "id": "9292b4ff-5dfe-41e6-8f40-aa6f95b75174",
   "metadata": {},
   "outputs": [],
   "source": [
    "import sys"
   ]
  },
  {
   "cell_type": "code",
   "execution_count": 3,
   "id": "c1729f05-db01-4919-84dd-936293569f4a",
   "metadata": {},
   "outputs": [
    {
     "name": "stdout",
     "output_type": "stream",
     "text": [
      "(1, 56)\n",
      "(2, 88)\n",
      "(3, 88)\n",
      "(4, 88)\n",
      "(5, 88)\n",
      "(6, 120)\n",
      "(7, 120)\n",
      "(8, 120)\n",
      "(9, 120)\n",
      "(10, 184)\n",
      "(11, 184)\n",
      "(12, 184)\n",
      "(13, 184)\n",
      "(14, 184)\n",
      "(15, 184)\n",
      "(16, 184)\n",
      "(17, 184)\n",
      "(18, 248)\n",
      "(19, 248)\n"
     ]
    }
   ],
   "source": [
    "L=[]\n",
    "for i in range(1,20):\n",
    "    print((i,sys.getsizeof(L)))\n",
    "    L.append(i)"
   ]
  },
  {
   "cell_type": "code",
   "execution_count": 4,
   "id": "d1237ce8-0f5e-47e6-a646-53ca6187497a",
   "metadata": {},
   "outputs": [],
   "source": [
    "import ctypes"
   ]
  },
  {
   "cell_type": "code",
   "execution_count": 69,
   "id": "1ffabff4-0714-4f77-9ea3-38330146a38e",
   "metadata": {},
   "outputs": [],
   "source": [
    "class Array:\n",
    "    def __init__(self):\n",
    "        self.size=1\n",
    "        self.n=0\n",
    "        ## Create a C type array with size=self.size\n",
    "        self.A=self.__make_array(self.size)\n",
    "    def __make_array(self,capacity):\n",
    "        ## Creates a C type array (Static,Referential) with size capacity\n",
    "        return (capacity*ctypes.py_object)()\n",
    "    ## Append functionality in array\n",
    "    def append(self,item):\n",
    "        if self.size==self.n:\n",
    "            ## resize array\n",
    "            self.__resize_array(self.size*2)\n",
    "        self.A[self.n]=item\n",
    "        self.n=self.n+1\n",
    "    def __resize_array(self,new_capacity):\n",
    "        ## Create a new array with new_capacity\n",
    "        B=self.__make_array(new_capacity)\n",
    "        self.size=new_capacity\n",
    "        ## Copying the content of A to B\n",
    "        for i in range(self.n):\n",
    "            B[i]=self.A[i]\n",
    "        ## Reassign A\n",
    "        self.A=B\n",
    "    ## Print functionality in Array\n",
    "    def __str__(self):\n",
    "        res=''\n",
    "        for i in range(self.n):\n",
    "            res=res+str(self.A[i])+','\n",
    "        return '['+ res[:-1] +']'\n",
    "    def __len__(self):\n",
    "        return self.n\n",
    "    ## Indexing functionality in Array\n",
    "    def __getitem__(self,index):\n",
    "        if 0<=index<self.n:\n",
    "            return self.A[index]\n",
    "        else:\n",
    "            return \"IndexError-Index out of range\"\n",
    "    ## Pop functionality in array\n",
    "    def pop(self):\n",
    "        if self.n==0:\n",
    "            return \"Empty list\"\n",
    "        print(self.A[self.n-1])\n",
    "        self.n=self.n-1\n",
    "    ## Clear functionality in array\n",
    "    def clear(self):\n",
    "        self.n=0\n",
    "        self.size=1\n",
    "    ## Find functionality in array with given item\n",
    "    def find(self,item):\n",
    "        for i in range (self.n):\n",
    "            if self.A[i]==item:\n",
    "                return i\n",
    "        return \"ValueError-not in list\"\n",
    "    ## Insert functionality in array with given pos and value\n",
    "    def insert(self,pos,item):\n",
    "        if self.n==self.size:\n",
    "            self.__resize_array(self.size*2)\n",
    "        for i in range(self.n,pos,-1):\n",
    "            self.A[i]=self.A[i-1]\n",
    "        self.A[pos]=item\n",
    "        self.n=self.n+1\n",
    "    ## deletion functionality(delete the item with index position) in array\n",
    "    def __delitem__(self,pos):\n",
    "        if 0<=pos<self.n:\n",
    "            for i in range(pos,self.n-1):\n",
    "                self.A[i]=self.A[i+1]\n",
    "            self.n=self.n-1\n",
    "    ## Remove functionality(delete the item with value) in array\n",
    "    def remove(self,item):\n",
    "        pos=self.find(item) ## pos me agar item mil jaata hai to integer milega aur agar nhi milta hai to string milega\n",
    "        if type(pos)==int:\n",
    "            ## Delete\n",
    "            self.__delitem__(pos)\n",
    "        else:\n",
    "            return pos     "
   ]
  },
  {
   "cell_type": "code",
   "execution_count": 70,
   "id": "96025af4-17fa-4e68-9ae3-dfcebeeb40db",
   "metadata": {},
   "outputs": [],
   "source": [
    "a=Array()"
   ]
  },
  {
   "cell_type": "code",
   "execution_count": 71,
   "id": "78b75485-ce47-46b6-89ec-0c9bd6fa0f9c",
   "metadata": {},
   "outputs": [
    {
     "data": {
      "text/plain": [
       "1"
      ]
     },
     "execution_count": 71,
     "metadata": {},
     "output_type": "execute_result"
    }
   ],
   "source": [
    "a.size"
   ]
  },
  {
   "cell_type": "code",
   "execution_count": 72,
   "id": "070ff8cb-1e44-40c8-83ae-f24dd366e444",
   "metadata": {},
   "outputs": [
    {
     "data": {
      "text/plain": [
       "0"
      ]
     },
     "execution_count": 72,
     "metadata": {},
     "output_type": "execute_result"
    }
   ],
   "source": [
    "len(a)"
   ]
  },
  {
   "cell_type": "code",
   "execution_count": 73,
   "id": "ccb8e4eb-41cb-48dd-97d6-e6ef22fd89b3",
   "metadata": {},
   "outputs": [],
   "source": [
    "a.append(2)"
   ]
  },
  {
   "cell_type": "code",
   "execution_count": 74,
   "id": "479952fd-2beb-44c3-8e11-85e25ea0147f",
   "metadata": {},
   "outputs": [
    {
     "data": {
      "text/plain": [
       "1"
      ]
     },
     "execution_count": 74,
     "metadata": {},
     "output_type": "execute_result"
    }
   ],
   "source": [
    "len(a)"
   ]
  },
  {
   "cell_type": "code",
   "execution_count": 75,
   "id": "00a76814-c8a1-44f1-a34f-09dc7b11bd6c",
   "metadata": {},
   "outputs": [],
   "source": [
    "a.append(True)\n",
    "a.append('Hello')\n",
    "a.append(3)"
   ]
  },
  {
   "cell_type": "code",
   "execution_count": 76,
   "id": "26627875-ebba-4d93-a5c7-64ea71fca0d4",
   "metadata": {},
   "outputs": [
    {
     "data": {
      "text/plain": [
       "4"
      ]
     },
     "execution_count": 76,
     "metadata": {},
     "output_type": "execute_result"
    }
   ],
   "source": [
    "len(a)"
   ]
  },
  {
   "cell_type": "code",
   "execution_count": 77,
   "id": "38e2e429-373e-453c-b73a-2c8f2e674676",
   "metadata": {},
   "outputs": [
    {
     "name": "stdout",
     "output_type": "stream",
     "text": [
      "[2,True,Hello,3]\n"
     ]
    }
   ],
   "source": [
    "print(a)"
   ]
  },
  {
   "cell_type": "code",
   "execution_count": 78,
   "id": "1a100141-c7a5-4850-a216-d8096bd3b02f",
   "metadata": {},
   "outputs": [
    {
     "data": {
      "text/plain": [
       "2"
      ]
     },
     "execution_count": 78,
     "metadata": {},
     "output_type": "execute_result"
    }
   ],
   "source": [
    "a[0]"
   ]
  },
  {
   "cell_type": "code",
   "execution_count": 79,
   "id": "e8c052b3-4298-49b3-9be0-28eeb4705721",
   "metadata": {},
   "outputs": [
    {
     "data": {
      "text/plain": [
       "'Hello'"
      ]
     },
     "execution_count": 79,
     "metadata": {},
     "output_type": "execute_result"
    }
   ],
   "source": [
    "a[2]"
   ]
  },
  {
   "cell_type": "code",
   "execution_count": 80,
   "id": "dcd9738f-d052-4af8-bcf1-65ad32ec54b1",
   "metadata": {},
   "outputs": [
    {
     "name": "stdout",
     "output_type": "stream",
     "text": [
      "3\n"
     ]
    }
   ],
   "source": [
    "a.pop()"
   ]
  },
  {
   "cell_type": "code",
   "execution_count": 81,
   "id": "5a5580cd-ef4d-499a-b54d-5df761647f33",
   "metadata": {},
   "outputs": [
    {
     "name": "stdout",
     "output_type": "stream",
     "text": [
      "[2,True,Hello]\n"
     ]
    }
   ],
   "source": [
    "print(a)"
   ]
  },
  {
   "cell_type": "code",
   "execution_count": 82,
   "id": "89073b7e-b8d1-4a69-95bc-61b205db8d64",
   "metadata": {},
   "outputs": [
    {
     "data": {
      "text/plain": [
       "0"
      ]
     },
     "execution_count": 82,
     "metadata": {},
     "output_type": "execute_result"
    }
   ],
   "source": [
    "a.find(2)"
   ]
  },
  {
   "cell_type": "code",
   "execution_count": 83,
   "id": "0bf6f33b-2068-4262-9bf0-8b1fccbab659",
   "metadata": {},
   "outputs": [
    {
     "data": {
      "text/plain": [
       "2"
      ]
     },
     "execution_count": 83,
     "metadata": {},
     "output_type": "execute_result"
    }
   ],
   "source": [
    "a.find('Hello')"
   ]
  },
  {
   "cell_type": "code",
   "execution_count": 84,
   "id": "023afe35-e026-4ddd-a614-74c1f4cb14ec",
   "metadata": {},
   "outputs": [
    {
     "data": {
      "text/plain": [
       "1"
      ]
     },
     "execution_count": 84,
     "metadata": {},
     "output_type": "execute_result"
    }
   ],
   "source": [
    "a.find(True)"
   ]
  },
  {
   "cell_type": "code",
   "execution_count": 85,
   "id": "72d43192-8de6-45b4-afac-caad773141b4",
   "metadata": {},
   "outputs": [
    {
     "data": {
      "text/plain": [
       "'ValueError-not in list'"
      ]
     },
     "execution_count": 85,
     "metadata": {},
     "output_type": "execute_result"
    }
   ],
   "source": [
    "a.find(3)"
   ]
  },
  {
   "cell_type": "code",
   "execution_count": 92,
   "id": "3bec78f4-10f5-4769-aa14-d08d6b4e43dc",
   "metadata": {},
   "outputs": [],
   "source": [
    "a.insert(4,'Shiv')"
   ]
  },
  {
   "cell_type": "code",
   "execution_count": 93,
   "id": "595f1b20-2214-4bfb-8269-2dba387b1668",
   "metadata": {},
   "outputs": [
    {
     "name": "stdout",
     "output_type": "stream",
     "text": [
      "[2,True,Shiv,Hello,Shiv]\n"
     ]
    }
   ],
   "source": [
    "print(a)"
   ]
  },
  {
   "cell_type": "code",
   "execution_count": 94,
   "id": "e2b34e39-a824-4d70-a999-69b9e60b16c1",
   "metadata": {},
   "outputs": [],
   "source": [
    "del a[1]"
   ]
  },
  {
   "cell_type": "code",
   "execution_count": 95,
   "id": "f221ba60-6405-46f4-a919-a2b5d3428710",
   "metadata": {},
   "outputs": [
    {
     "name": "stdout",
     "output_type": "stream",
     "text": [
      "[2,Shiv,Hello,Shiv]\n"
     ]
    }
   ],
   "source": [
    "print(a)"
   ]
  },
  {
   "cell_type": "code",
   "execution_count": 96,
   "id": "cf6f5538-828f-4c25-8e44-f628121a5f08",
   "metadata": {},
   "outputs": [],
   "source": [
    "a.remove('Shiv')"
   ]
  },
  {
   "cell_type": "code",
   "execution_count": 97,
   "id": "af984941-0e8b-42f6-9e9b-e9faa278d559",
   "metadata": {},
   "outputs": [
    {
     "name": "stdout",
     "output_type": "stream",
     "text": [
      "[2,Hello,Shiv]\n"
     ]
    }
   ],
   "source": [
    "print(a)"
   ]
  },
  {
   "cell_type": "code",
   "execution_count": 98,
   "id": "ff64a9d0-fa92-44fd-be6a-8be87d9d7d03",
   "metadata": {},
   "outputs": [],
   "source": [
    "a.remove(2)"
   ]
  },
  {
   "cell_type": "code",
   "execution_count": 99,
   "id": "5660f1c7-959c-4cbf-a669-c3c7be277bf7",
   "metadata": {},
   "outputs": [
    {
     "name": "stdout",
     "output_type": "stream",
     "text": [
      "[Hello,Shiv]\n"
     ]
    }
   ],
   "source": [
    "print(a)"
   ]
  },
  {
   "cell_type": "markdown",
   "id": "e2c2d138-e975-4c60-aa87-d9d16ff47267",
   "metadata": {},
   "source": [
    "## THANKS"
   ]
  },
  {
   "cell_type": "code",
   "execution_count": null,
   "id": "d252ee64-9610-4eb8-b444-3a1b1b466699",
   "metadata": {},
   "outputs": [],
   "source": []
  }
 ],
 "metadata": {
  "kernelspec": {
   "display_name": "Python 3 (ipykernel)",
   "language": "python",
   "name": "python3"
  },
  "language_info": {
   "codemirror_mode": {
    "name": "ipython",
    "version": 3
   },
   "file_extension": ".py",
   "mimetype": "text/x-python",
   "name": "python",
   "nbconvert_exporter": "python",
   "pygments_lexer": "ipython3",
   "version": "3.12.4"
  }
 },
 "nbformat": 4,
 "nbformat_minor": 5
}
