{
 "cells": [
  {
   "cell_type": "markdown",
   "id": "6be4b2e9-2a45-4e3a-b774-eeb6109d824f",
   "metadata": {},
   "source": [
    "# Performing all operations of LinkedList in Data Structure"
   ]
  },
  {
   "cell_type": "code",
   "execution_count": 2,
   "id": "3ca114e6-155e-44ea-9f3f-a2bcae4ac746",
   "metadata": {},
   "outputs": [],
   "source": [
    "## Creating node of given value\n",
    "class Node:\n",
    "    def __init__(self,value):\n",
    "        self.data=value\n",
    "        self.next=None\n",
    "## Creating Empty LinkedList\n",
    "class Linkedlist:\n",
    "    def __init__(self):\n",
    "        self.head=None\n",
    "        self.n=0\n",
    "    ## Using \"Magic Method\" to find length of the list\n",
    "    def __len__(self):\n",
    "        return self.n\n",
    "    ## Inserting node at head position of LinkedList\n",
    "    def insert_head(self,value):\n",
    "        new_node=Node(value)\n",
    "        new_node.next=self.head\n",
    "        self.head=new_node\n",
    "        self.n=self.n+1\n",
    "    ## Travering through end of LinkedList\n",
    "    def traverse(self):\n",
    "        curr=self.head\n",
    "        while curr!=None:\n",
    "            print(curr.data)\n",
    "            curr=curr.next\n",
    "    ## Using \"Magic Method\" to print the LinkedList \n",
    "    def __str__(self):\n",
    "        curr=self.head\n",
    "        result=''\n",
    "        while curr!=None:\n",
    "            result=result+str(curr.data)+'->'\n",
    "            curr=curr.next\n",
    "        return result[:-2]\n",
    "    ## Inserting node in middle of LinkedList\n",
    "    def insert_mid(self,after,value):\n",
    "        new_node=Node(value)\n",
    "        curr=self.head\n",
    "        while curr!=None:\n",
    "            if curr.data==after:\n",
    "                break\n",
    "            curr=curr.next\n",
    "        if curr!=None:\n",
    "            new_node.next=curr.next\n",
    "            curr.next=new_node\n",
    "            self.n=self.n+1\n",
    "        else:\n",
    "            return 'Item not found'\n",
    "    ## Inserting node at tail position of LinkedList\n",
    "    def append(self,value):\n",
    "        new_node=Node(value)\n",
    "        if self.head==None:\n",
    "            self.head=new_node\n",
    "            self.n=self.n+1\n",
    "            return\n",
    "        curr=self.head\n",
    "        while curr.next!=None:\n",
    "            curr=curr.next\n",
    "        curr.next=new_node\n",
    "        self.n=self.n+1\n",
    "    ## To clear each element of LinkedList or to make LinkedList empty\n",
    "    def clear(self):\n",
    "        self.head=None\n",
    "        self.n=0\n",
    "    ## To delete node at head position in LinkedList\n",
    "    def delete_head(self):\n",
    "        if self.head==None:\n",
    "            return \"Empty List\"\n",
    "        curr=self.head\n",
    "        self.head=curr.next\n",
    "        self.n=self.n-1\n",
    "    ## To delete node at tail position in LinkedList\n",
    "    def pop(self):\n",
    "        if self.head==None:\n",
    "            return \"Empty list\"\n",
    "        curr=self.head\n",
    "        if curr.next==None:\n",
    "            return self.delete_head()\n",
    "        while curr.next.next!=None:\n",
    "            curr=curr.next\n",
    "        curr.next=None\n",
    "        self.n=self.n-1\n",
    "    ## To delete node from middle of LinkedList\n",
    "    def remove(self,value):\n",
    "        if self.head==None:\n",
    "            return \"Empty list\"\n",
    "        if self.head.data==value:\n",
    "            return self.delete_head()\n",
    "        curr=self.head\n",
    "        while curr.next!=None:\n",
    "            if curr.next.data==value:\n",
    "                break\n",
    "            curr=curr.next\n",
    "        if curr.next==None:\n",
    "            return \"Item not found\"\n",
    "        else:\n",
    "            curr.next=curr.next.next\n",
    "            self.n=self.n-1\n",
    "    ## To find index position(of node) given value(of node)(\"Find\" method in List of python)\n",
    "    def find(self,value):\n",
    "        pos=0\n",
    "        curr=self.head\n",
    "        while curr!=None:\n",
    "            if curr.data==value:\n",
    "                return pos\n",
    "            curr=curr.next\n",
    "            pos=pos+1\n",
    "        return \"Not found\"\n",
    "    ## We have to introduce Indexing(to find value of node at given node position) so we will use \"Magic Method\"\n",
    "    def __getitem__(self,index):\n",
    "        curr=self.head\n",
    "        pos=0\n",
    "        while curr!=None:\n",
    "            if pos==index:\n",
    "                return curr.data\n",
    "            curr=curr.next\n",
    "            pos=pos+1\n",
    "        return \"IndexError\""
   ]
  },
  {
   "cell_type": "code",
   "execution_count": 3,
   "id": "495488aa-10a1-4649-b856-f04804514188",
   "metadata": {},
   "outputs": [],
   "source": [
    "n=Node(2)"
   ]
  },
  {
   "cell_type": "code",
   "execution_count": 4,
   "id": "1ea22f3a-d7d9-41c6-81c5-798c94c1080f",
   "metadata": {},
   "outputs": [
    {
     "data": {
      "text/plain": [
       "2"
      ]
     },
     "execution_count": 4,
     "metadata": {},
     "output_type": "execute_result"
    }
   ],
   "source": [
    "n.data"
   ]
  },
  {
   "cell_type": "code",
   "execution_count": 5,
   "id": "16d25564-232a-437a-8712-f36fc0223307",
   "metadata": {},
   "outputs": [],
   "source": [
    "L=Linkedlist()"
   ]
  },
  {
   "cell_type": "code",
   "execution_count": 6,
   "id": "908efbb5-be6c-42c6-96fb-f194d3b1333d",
   "metadata": {},
   "outputs": [],
   "source": [
    "L.insert_head(1)\n",
    "L.insert_head(2)\n",
    "L.insert_head(3)\n",
    "L.insert_head(4)"
   ]
  },
  {
   "cell_type": "code",
   "execution_count": 7,
   "id": "035b2af7-06d7-4b59-bb22-d860eade2417",
   "metadata": {},
   "outputs": [
    {
     "data": {
      "text/plain": [
       "4"
      ]
     },
     "execution_count": 7,
     "metadata": {},
     "output_type": "execute_result"
    }
   ],
   "source": [
    "len(L)"
   ]
  },
  {
   "cell_type": "code",
   "execution_count": 8,
   "id": "dc96b829-4601-46a3-8ead-ea9c67b97f36",
   "metadata": {},
   "outputs": [
    {
     "name": "stdout",
     "output_type": "stream",
     "text": [
      "4\n",
      "3\n",
      "2\n",
      "1\n"
     ]
    }
   ],
   "source": [
    "L.traverse()"
   ]
  },
  {
   "cell_type": "code",
   "execution_count": 9,
   "id": "f0de7871-a36e-449a-828b-df66b4a5787f",
   "metadata": {},
   "outputs": [
    {
     "name": "stdout",
     "output_type": "stream",
     "text": [
      "4->3->2->1\n"
     ]
    }
   ],
   "source": [
    "print(L)"
   ]
  },
  {
   "cell_type": "code",
   "execution_count": 10,
   "id": "69cae748-ed81-4e79-bd11-3fb39795e145",
   "metadata": {},
   "outputs": [],
   "source": [
    "L.insert_mid(2,5)"
   ]
  },
  {
   "cell_type": "code",
   "execution_count": 11,
   "id": "a093bef2-f2aa-4955-b20c-9bcfcc15f67b",
   "metadata": {},
   "outputs": [
    {
     "name": "stdout",
     "output_type": "stream",
     "text": [
      "4->3->2->5->1\n"
     ]
    }
   ],
   "source": [
    "print(L)"
   ]
  },
  {
   "cell_type": "code",
   "execution_count": 12,
   "id": "12b68c42-ac49-4a19-bc96-45455d190ab4",
   "metadata": {},
   "outputs": [
    {
     "data": {
      "text/plain": [
       "5"
      ]
     },
     "execution_count": 12,
     "metadata": {},
     "output_type": "execute_result"
    }
   ],
   "source": [
    "len(L)"
   ]
  },
  {
   "cell_type": "code",
   "execution_count": 13,
   "id": "19055056-1715-4298-bd9c-589862777cf9",
   "metadata": {},
   "outputs": [],
   "source": [
    "L.append(6)"
   ]
  },
  {
   "cell_type": "code",
   "execution_count": 14,
   "id": "0504b45f-3d90-4194-9095-4497dd515510",
   "metadata": {},
   "outputs": [
    {
     "name": "stdout",
     "output_type": "stream",
     "text": [
      "4->3->2->5->1->6\n"
     ]
    }
   ],
   "source": [
    "print(L)"
   ]
  },
  {
   "cell_type": "code",
   "execution_count": 15,
   "id": "90f8cd56-eac0-4ea7-b275-b80120209c66",
   "metadata": {},
   "outputs": [
    {
     "data": {
      "text/plain": [
       "6"
      ]
     },
     "execution_count": 15,
     "metadata": {},
     "output_type": "execute_result"
    }
   ],
   "source": [
    "len(L)"
   ]
  },
  {
   "cell_type": "code",
   "execution_count": 16,
   "id": "6f2e45fc-e43a-49fc-906a-cd7616898050",
   "metadata": {},
   "outputs": [],
   "source": [
    "L.delete_head()"
   ]
  },
  {
   "cell_type": "code",
   "execution_count": 17,
   "id": "9f9fb358-bafd-40b9-91bc-eea5009fbbc6",
   "metadata": {},
   "outputs": [
    {
     "name": "stdout",
     "output_type": "stream",
     "text": [
      "3->2->5->1->6\n"
     ]
    }
   ],
   "source": [
    "print(L)"
   ]
  },
  {
   "cell_type": "code",
   "execution_count": 18,
   "id": "4237523c-9701-491e-acb2-7a74a6ebfd42",
   "metadata": {},
   "outputs": [],
   "source": [
    "L.pop()"
   ]
  },
  {
   "cell_type": "code",
   "execution_count": 19,
   "id": "2a9e6827-b0cb-4de4-b5c8-739b3877a39b",
   "metadata": {},
   "outputs": [
    {
     "name": "stdout",
     "output_type": "stream",
     "text": [
      "3->2->5->1\n"
     ]
    }
   ],
   "source": [
    "print(L)"
   ]
  },
  {
   "cell_type": "code",
   "execution_count": 20,
   "id": "bf3d06a6-11a5-46f8-a24f-e7b94fdc73f4",
   "metadata": {},
   "outputs": [],
   "source": [
    "L.remove(5)"
   ]
  },
  {
   "cell_type": "code",
   "execution_count": 21,
   "id": "7b55465c-9618-49e2-88ba-ecb7e7a5c8cc",
   "metadata": {},
   "outputs": [
    {
     "name": "stdout",
     "output_type": "stream",
     "text": [
      "3->2->1\n"
     ]
    }
   ],
   "source": [
    "print(L)"
   ]
  },
  {
   "cell_type": "code",
   "execution_count": 22,
   "id": "c3d656c7-3d5b-4747-a38b-f1de225005d9",
   "metadata": {},
   "outputs": [
    {
     "data": {
      "text/plain": [
       "1"
      ]
     },
     "execution_count": 22,
     "metadata": {},
     "output_type": "execute_result"
    }
   ],
   "source": [
    "L.find(2)"
   ]
  },
  {
   "cell_type": "code",
   "execution_count": 23,
   "id": "0f34f2bd-c218-4cdd-b84a-01c808e6e5a1",
   "metadata": {},
   "outputs": [
    {
     "data": {
      "text/plain": [
       "2"
      ]
     },
     "execution_count": 23,
     "metadata": {},
     "output_type": "execute_result"
    }
   ],
   "source": [
    "L.find(1)"
   ]
  },
  {
   "cell_type": "code",
   "execution_count": 24,
   "id": "285663c0-cae4-454a-999f-b9aec9d8b9f7",
   "metadata": {},
   "outputs": [
    {
     "data": {
      "text/plain": [
       "3"
      ]
     },
     "execution_count": 24,
     "metadata": {},
     "output_type": "execute_result"
    }
   ],
   "source": [
    "L[0]"
   ]
  },
  {
   "cell_type": "code",
   "execution_count": 25,
   "id": "501d9bd4-0bde-4a9d-9230-b1b41399ddf7",
   "metadata": {},
   "outputs": [
    {
     "data": {
      "text/plain": [
       "2"
      ]
     },
     "execution_count": 25,
     "metadata": {},
     "output_type": "execute_result"
    }
   ],
   "source": [
    "L[1]"
   ]
  },
  {
   "cell_type": "code",
   "execution_count": 26,
   "id": "6f2d06b0-a316-4eb5-90d3-9de8dc34938c",
   "metadata": {},
   "outputs": [
    {
     "data": {
      "text/plain": [
       "1"
      ]
     },
     "execution_count": 26,
     "metadata": {},
     "output_type": "execute_result"
    }
   ],
   "source": [
    "L[2]"
   ]
  },
  {
   "cell_type": "markdown",
   "id": "5a011839-9ebc-4b49-ad60-1e84ab1946ed",
   "metadata": {},
   "source": [
    "## Finding maximum value in Linked list and replace it with a given value and also reversing a linkedlist containing integer data(Inplace reversal) "
   ]
  },
  {
   "cell_type": "code",
   "execution_count": 27,
   "id": "a3fec88f-4cca-466d-9bd1-af7fc5f91cf1",
   "metadata": {},
   "outputs": [],
   "source": [
    "## Creating node of given value\n",
    "class Node:\n",
    "    def __init__(self,value):\n",
    "        self.data=value\n",
    "        self.next=None\n",
    "## Creating Empty LinkedList\n",
    "class Linkedlist:\n",
    "    def __init__(self):\n",
    "        self.head=None\n",
    "        self.n=0\n",
    "    ## Using \"Magic Method\" to find length of the list\n",
    "    def __len__(self):\n",
    "        return self.n\n",
    "    ## Inserting node at head position of LinkedList\n",
    "    def insert_head(self,value):\n",
    "        new_node=Node(value)\n",
    "        new_node.next=self.head\n",
    "        self.head=new_node\n",
    "        self.n=self.n+1\n",
    "    ## Travering through end of LinkedList\n",
    "    def traverse(self):\n",
    "        curr=self.head\n",
    "        while curr!=None:\n",
    "            print(curr.data)\n",
    "            curr=curr.next\n",
    "    ## Using \"Magic Method\" to print the LinkedList \n",
    "    def __str__(self):\n",
    "        curr=self.head\n",
    "        result=''\n",
    "        while curr!=None:\n",
    "            result=result+str(curr.data)+'->'\n",
    "            curr=curr.next\n",
    "        return result[:-2]\n",
    "    ## Finding maximum value in Linked list and replace it with a given value\n",
    "    def replace_max(self,value):\n",
    "        curr=self.head\n",
    "        max=self.head\n",
    "        while curr!=None:\n",
    "            if curr.data>max.data:\n",
    "                max=curr\n",
    "            curr=curr.next\n",
    "        max.data=value\n",
    "    ## Program to reverse a linkedlist containing integer data(Inplace reversal)\n",
    "    def reverse(self):\n",
    "        prev_node=None\n",
    "        curr_node=self.head\n",
    "        while curr_node!=None:\n",
    "            next_node=curr_node.next\n",
    "            curr_node.next=prev_node\n",
    "            prev_node=curr_node\n",
    "            curr_node=next_node\n",
    "        self.head=prev_node"
   ]
  },
  {
   "cell_type": "code",
   "execution_count": 28,
   "id": "e1c60da9-af17-408e-942d-fd4a42881e82",
   "metadata": {},
   "outputs": [],
   "source": [
    "L=Linkedlist()"
   ]
  },
  {
   "cell_type": "code",
   "execution_count": 29,
   "id": "3103dd6b-8035-4fb3-80f0-d7a2d42a873f",
   "metadata": {},
   "outputs": [],
   "source": [
    "L.insert_head(1)\n",
    "L.insert_head(3)\n",
    "L.insert_head(4)\n",
    "L.insert_head(2)"
   ]
  },
  {
   "cell_type": "code",
   "execution_count": 30,
   "id": "1c957247-655a-46e6-ab45-e3fec12ac7fb",
   "metadata": {},
   "outputs": [
    {
     "name": "stdout",
     "output_type": "stream",
     "text": [
      "2->4->3->1\n"
     ]
    }
   ],
   "source": [
    "print(L)"
   ]
  },
  {
   "cell_type": "code",
   "execution_count": 31,
   "id": "2846c3c9-7275-432a-8656-86f4700f2964",
   "metadata": {},
   "outputs": [],
   "source": [
    "L.replace_max(5)"
   ]
  },
  {
   "cell_type": "code",
   "execution_count": 32,
   "id": "7932ca84-0e92-469c-8f97-d87937a1929f",
   "metadata": {},
   "outputs": [
    {
     "name": "stdout",
     "output_type": "stream",
     "text": [
      "2->5->3->1\n"
     ]
    }
   ],
   "source": [
    "print(L)"
   ]
  },
  {
   "cell_type": "code",
   "execution_count": 33,
   "id": "27c28d0d-de5c-42f5-9eb3-6d92c3488568",
   "metadata": {},
   "outputs": [],
   "source": [
    "L.reverse()"
   ]
  },
  {
   "cell_type": "code",
   "execution_count": 34,
   "id": "db15126c-696a-4cb4-ab7a-6718fb3600da",
   "metadata": {},
   "outputs": [
    {
     "name": "stdout",
     "output_type": "stream",
     "text": [
      "1->3->5->2\n"
     ]
    }
   ],
   "source": [
    "print(L)"
   ]
  },
  {
   "cell_type": "markdown",
   "id": "a2173055-285a-4e07-9d58-9829d9a5a4e2",
   "metadata": {},
   "source": [
    "# THANKS"
   ]
  },
  {
   "cell_type": "code",
   "execution_count": null,
   "id": "0a7fd98f-c934-493a-8012-f9569ea3e8f3",
   "metadata": {},
   "outputs": [],
   "source": []
  }
 ],
 "metadata": {
  "kernelspec": {
   "display_name": "Python 3 (ipykernel)",
   "language": "python",
   "name": "python3"
  },
  "language_info": {
   "codemirror_mode": {
    "name": "ipython",
    "version": 3
   },
   "file_extension": ".py",
   "mimetype": "text/x-python",
   "name": "python",
   "nbconvert_exporter": "python",
   "pygments_lexer": "ipython3",
   "version": "3.12.4"
  }
 },
 "nbformat": 4,
 "nbformat_minor": 5
}
