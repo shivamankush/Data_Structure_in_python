{
 "cells": [
  {
   "cell_type": "code",
   "execution_count": 1,
   "id": "c3470b84-05fb-40b9-99ef-0b2050087862",
   "metadata": {},
   "outputs": [],
   "source": [
    "class Node:\n",
    "    def __init__(self,value):\n",
    "        self.data=value\n",
    "        self.next=None"
   ]
  },
  {
   "cell_type": "code",
   "execution_count": 2,
   "id": "08abb5f9-ebb5-4f63-9eb8-5f660bfa5ea8",
   "metadata": {},
   "outputs": [],
   "source": [
    "a=Node(1)"
   ]
  },
  {
   "cell_type": "code",
   "execution_count": 3,
   "id": "d4f63c27-0642-45b8-b762-b695a0cbb55c",
   "metadata": {},
   "outputs": [],
   "source": [
    "b=Node(2)"
   ]
  },
  {
   "cell_type": "code",
   "execution_count": 4,
   "id": "708a9714-37bf-4227-88e7-5bfe4fe3289b",
   "metadata": {},
   "outputs": [],
   "source": [
    "c=Node(3)"
   ]
  },
  {
   "cell_type": "code",
   "execution_count": 5,
   "id": "9f933921-a414-4039-8ca9-205c8cd5712c",
   "metadata": {},
   "outputs": [],
   "source": [
    "d=Node(4)"
   ]
  },
  {
   "cell_type": "code",
   "execution_count": 6,
   "id": "527d84ce-513f-4880-bc30-ceb06efb55ce",
   "metadata": {},
   "outputs": [
    {
     "name": "stdout",
     "output_type": "stream",
     "text": [
      "1\n"
     ]
    }
   ],
   "source": [
    "print(a.data)"
   ]
  },
  {
   "cell_type": "code",
   "execution_count": 7,
   "id": "91c8008d-5586-43e4-9ede-a7561575813c",
   "metadata": {},
   "outputs": [
    {
     "name": "stdout",
     "output_type": "stream",
     "text": [
      "2\n"
     ]
    }
   ],
   "source": [
    "print(b.data)"
   ]
  },
  {
   "cell_type": "code",
   "execution_count": 8,
   "id": "d097813d-6d35-452e-9ac3-9805388c293c",
   "metadata": {},
   "outputs": [
    {
     "name": "stdout",
     "output_type": "stream",
     "text": [
      "3\n"
     ]
    }
   ],
   "source": [
    "print(c.data)"
   ]
  },
  {
   "cell_type": "code",
   "execution_count": 9,
   "id": "fe9d3a8f-f3a7-478e-9111-410bb1810c31",
   "metadata": {},
   "outputs": [
    {
     "name": "stdout",
     "output_type": "stream",
     "text": [
      "4\n"
     ]
    }
   ],
   "source": [
    "print(d.data)"
   ]
  },
  {
   "cell_type": "code",
   "execution_count": 10,
   "id": "b5cf5985-245c-43ab-9e26-2167c6602b8e",
   "metadata": {},
   "outputs": [],
   "source": [
    "a.next=b\n",
    "b.next=c\n",
    "c.next=d"
   ]
  },
  {
   "cell_type": "code",
   "execution_count": 29,
   "id": "da7a330b-4cd3-4533-a3cf-306b9a56b09f",
   "metadata": {},
   "outputs": [],
   "source": [
    "class Node:\n",
    "    def __init__(self,value):\n",
    "        self.data=value\n",
    "        self.next=None\n",
    "class Linkedlist:\n",
    "    def __init__(self):\n",
    "        self.head=None\n",
    "        self.n=0\n",
    "    def __len__(self):\n",
    "        return self.n\n",
    "    def insert_head(self,value):\n",
    "        ## new node created\n",
    "        new_node=Node(value)\n",
    "        ## create connection\n",
    "        new_node.next=self.head\n",
    "        ## reassign head\n",
    "        self.head=new_node\n",
    "        self.n=self.n+1\n",
    "    def traverse(self):\n",
    "        curr=self.head\n",
    "        while curr!=None:\n",
    "            print(curr.data)\n",
    "            curr=curr.next\n",
    "    def __str__(self):\n",
    "        curr=self.head\n",
    "        result=''\n",
    "        while curr!=None:\n",
    "            result=result+str(curr.data)+'->'\n",
    "            curr=curr.next\n",
    "        return result[:-2]\n",
    "    def append(self,value):\n",
    "        new_node=Node(value)\n",
    "        if self.head==None:\n",
    "            ## Empty\n",
    "            self.head=new_node\n",
    "            self.n=self.n+1\n",
    "            return\n",
    "        curr=self.head\n",
    "        while curr.next!=None:\n",
    "            curr=curr.next\n",
    "        curr.next=new_node\n",
    "        self.n=self.n+1\n",
    "    def insert_after(self,after,value):\n",
    "        new_node=Node(value)\n",
    "        curr=self.head\n",
    "        while curr!=None:\n",
    "            if curr.data==after:\n",
    "                break\n",
    "            curr=curr.next\n",
    "        if curr!=None:\n",
    "            new_node.next=curr.next\n",
    "            curr.next=new_node\n",
    "            self.n=self.n+1\n",
    "        else:\n",
    "            return 'Item not found'"
   ]
  },
  {
   "cell_type": "code",
   "execution_count": 30,
   "id": "260f6b57-710f-4f21-84df-4620f3f37f79",
   "metadata": {},
   "outputs": [],
   "source": [
    "L=Linkedlist()"
   ]
  },
  {
   "cell_type": "code",
   "execution_count": 31,
   "id": "d861ee63-9d6f-462d-a45c-472f69be9d8f",
   "metadata": {},
   "outputs": [],
   "source": [
    "L.insert_head(1)\n",
    "L.insert_head(2)\n",
    "L.insert_head(3)\n",
    "L.insert_head(4)"
   ]
  },
  {
   "cell_type": "code",
   "execution_count": 32,
   "id": "7db89f68-3319-4196-b0d4-c85b65ffdccd",
   "metadata": {},
   "outputs": [
    {
     "data": {
      "text/plain": [
       "4"
      ]
     },
     "execution_count": 32,
     "metadata": {},
     "output_type": "execute_result"
    }
   ],
   "source": [
    "len(L)"
   ]
  },
  {
   "cell_type": "code",
   "execution_count": 33,
   "id": "0bdfcd22-ebd9-4d62-b1ff-24cb65b657d2",
   "metadata": {},
   "outputs": [
    {
     "name": "stdout",
     "output_type": "stream",
     "text": [
      "4\n",
      "3\n",
      "2\n",
      "1\n"
     ]
    }
   ],
   "source": [
    "L.traverse()"
   ]
  },
  {
   "cell_type": "code",
   "execution_count": 34,
   "id": "fa4dd359-99ed-4bac-b1ff-4967b5b55abb",
   "metadata": {},
   "outputs": [
    {
     "name": "stdout",
     "output_type": "stream",
     "text": [
      "4->3->2->1\n"
     ]
    }
   ],
   "source": [
    "print(L)"
   ]
  },
  {
   "cell_type": "code",
   "execution_count": 35,
   "id": "6ae4888d-64bb-4eb8-b88c-22de7b214804",
   "metadata": {},
   "outputs": [],
   "source": [
    "L.append(5)"
   ]
  },
  {
   "cell_type": "code",
   "execution_count": 36,
   "id": "341bd247-bbec-4640-8e00-c9d9be522e92",
   "metadata": {},
   "outputs": [
    {
     "name": "stdout",
     "output_type": "stream",
     "text": [
      "4->3->2->1->5\n"
     ]
    }
   ],
   "source": [
    "print(L)"
   ]
  },
  {
   "cell_type": "code",
   "execution_count": 37,
   "id": "bcbe90a4-efcc-4049-9f33-7d3705017b84",
   "metadata": {},
   "outputs": [],
   "source": [
    "L.insert_after(3,10)"
   ]
  },
  {
   "cell_type": "code",
   "execution_count": 38,
   "id": "05e03ce3-45bf-44d5-9ae6-bd4c885337ab",
   "metadata": {},
   "outputs": [
    {
     "name": "stdout",
     "output_type": "stream",
     "text": [
      "4->3->10->2->1->5\n"
     ]
    }
   ],
   "source": [
    "print(L)"
   ]
  },
  {
   "cell_type": "code",
   "execution_count": null,
   "id": "e63c815e-f268-48bc-975b-71ce31a70a41",
   "metadata": {},
   "outputs": [],
   "source": []
  }
 ],
 "metadata": {
  "kernelspec": {
   "display_name": "Python 3 (ipykernel)",
   "language": "python",
   "name": "python3"
  },
  "language_info": {
   "codemirror_mode": {
    "name": "ipython",
    "version": 3
   },
   "file_extension": ".py",
   "mimetype": "text/x-python",
   "name": "python",
   "nbconvert_exporter": "python",
   "pygments_lexer": "ipython3",
   "version": "3.12.4"
  }
 },
 "nbformat": 4,
 "nbformat_minor": 5
}
